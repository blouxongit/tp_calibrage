{
 "cells": [
  {
   "cell_type": "code",
   "execution_count": 730,
   "metadata": {},
   "outputs": [],
   "source": [
    "import numpy as np\n",
    "import cv2\n",
    "from matplotlib import pyplot as plt"
   ]
  },
  {
   "cell_type": "code",
   "execution_count": 731,
   "metadata": {},
   "outputs": [],
   "source": [
    "images = [cv2.imread(\"../mire_1.png\"), cv2.imread(\"../mire_2.png\")]\n"
   ]
  },
  {
   "cell_type": "markdown",
   "metadata": {},
   "source": [
    "Nous allons adopter les conventions suivantes : les axes x,y sont tels que x correspond à la coordonnée en ligne du pixel et y correspond à la coordonnée en colonne du pixel, ainsi Nx correspond au nombre de corners en \"ordonnée\", Ny correspond au nombre de coordonnées en \"abscisse\"."
   ]
  },
  {
   "cell_type": "code",
   "execution_count": 732,
   "metadata": {},
   "outputs": [],
   "source": [
    "cnt = 1\n",
    "ny = 11\n",
    "nx = 8\n",
    "coord_px = []\n",
    "for image in images:\n",
    "    ret, corners = cv2.findChessboardCorners(image, (ny, nx))\n",
    "    cv2.drawChessboardCorners(image, (ny, nx), corners, ret)\n",
    "    result_name = '../data/board_corners_draw'+str(cnt)+'.jpg'\n",
    "    cv2.imwrite(result_name, image)\n",
    "    # if cnt == 1:\n",
    "        # plt.imshow(image)\n",
    "    coord_px.append(np.flip(np.squeeze(corners)))\n",
    "    cnt += 1\n",
    "coord_px = np.concatenate((coord_px[0], coord_px[1]))"
   ]
  },
  {
   "cell_type": "code",
   "execution_count": 733,
   "metadata": {},
   "outputs": [],
   "source": [
    "ecart_corners_x = np.linspace(0, 20*nx - 20, nx)\n",
    "ecart_corners_y = np.linspace(0, 20*ny - 20, ny)\n",
    "ecart_corners_z_picture_1 = np.linspace(0, 0, ny)\n",
    "ecart_corners_z_picture_2 = np.linspace(-100, -100, ny)\n",
    "\n",
    "yv, xv = np.meshgrid(ecart_corners_y, ecart_corners_x)\n",
    "zv_1, xv = np.meshgrid(ecart_corners_z_picture_1, ecart_corners_x)\n",
    "zv_2, xv = np.meshgrid(ecart_corners_z_picture_2, ecart_corners_x)\n",
    "\n",
    "coord_mm = np.stack((xv, yv, zv_1), axis=2) # La coordonnée selon z est 0\n",
    "coord_mm = np.concatenate((coord_mm, np.stack((xv, yv, zv_2), axis=2)), axis=0)\n",
    "coord_mm = coord_mm.reshape(176, 3)"
   ]
  },
  {
   "cell_type": "markdown",
   "metadata": {},
   "source": [
    "D'après le site du constructeur de webcam logitech, la référence C270 a une distance focale de 4.0 mm."
   ]
  },
  {
   "cell_type": "code",
   "execution_count": 734,
   "metadata": {},
   "outputs": [],
   "source": [
    "f = 4\n",
    "height, width = images[0].shape[0]/2, images[0].shape[1]/2\n",
    "i1 = height\n",
    "i2 = width"
   ]
  },
  {
   "cell_type": "code",
   "execution_count": 735,
   "metadata": {},
   "outputs": [],
   "source": [
    "u_1_tilde = coord_px[:,0] - height # x \n",
    "u_2_tilde = coord_px[:,1] - width # y"
   ]
  },
  {
   "cell_type": "code",
   "execution_count": 736,
   "metadata": {},
   "outputs": [],
   "source": [
    "lignes = 176"
   ]
  },
  {
   "cell_type": "code",
   "execution_count": 737,
   "metadata": {},
   "outputs": [],
   "source": [
    "A = np.zeros((lignes, 7))\n",
    "U1 = u_1_tilde"
   ]
  },
  {
   "cell_type": "code",
   "execution_count": 738,
   "metadata": {},
   "outputs": [],
   "source": [
    "for i in range(lignes):\n",
    "    A[i] = np.array([u_2_tilde[i]*coord_mm[i,0], u_2_tilde[i]*coord_mm[i,1], u_2_tilde[i]*coord_mm[i,2], u_2_tilde[i], -u_1_tilde[i]*coord_mm[i,0], -u_1_tilde[i]*coord_mm[i,1], -u_1_tilde[i]*coord_mm[i,2]])"
   ]
  },
  {
   "cell_type": "code",
   "execution_count": 739,
   "metadata": {},
   "outputs": [],
   "source": [
    "L = np.linalg.inv(A.T @ A) @ A.T @ U1"
   ]
  },
  {
   "cell_type": "markdown",
   "metadata": {},
   "source": [
    "Comme notre axe z est orienté à l'opposé de la direction des mires on choisit o2c comme une valeur négative."
   ]
  },
  {
   "cell_type": "code",
   "execution_count": 740,
   "metadata": {},
   "outputs": [
    {
     "name": "stdout",
     "output_type": "stream",
     "text": [
      "97.53726346349515\n"
     ]
    }
   ],
   "source": [
    "o_2_c_abs = 1/(np.sqrt(L[4]**2+L[5]**2+L[6]**2))\n",
    "o_2_c = o_2_c_abs\n",
    "print(o_2_c)\n",
    "beta = o_2_c_abs * np.sqrt(L[0]**2+L[1]**2+L[2]**2)\n",
    "o_1_c = L[3] * o_2_c / beta\n",
    "r11 = L[0] * o_2_c / beta\n",
    "r12 = L[1] * o_2_c / beta\n",
    "r13 = L[2] * o_2_c / beta\n",
    "r21 = L[4] * o_2_c\n",
    "r22 = L[5] * o_2_c\n",
    "r23 = L[6] * o_2_c\n"
   ]
  },
  {
   "cell_type": "code",
   "execution_count": 741,
   "metadata": {},
   "outputs": [],
   "source": [
    "R1 = np.array([r11, r12, r13])\n",
    "R2 = np.array([r21, r22, r23])\n",
    "R3 = np.cross(R1, R2)\n",
    "r31, r32, r33 = R3[0], R3[1], R3[2]"
   ]
  },
  {
   "cell_type": "code",
   "execution_count": 742,
   "metadata": {},
   "outputs": [],
   "source": [
    "phi = - np.arctan(r23/r33)\n",
    "gamma = - np.arctan(r12/r11)\n",
    "omega = np.arctan(r13/(-r23*np.sin(phi)+r33*np.cos(phi)))"
   ]
  },
  {
   "cell_type": "code",
   "execution_count": 743,
   "metadata": {},
   "outputs": [],
   "source": [
    "B = np.zeros((lignes, 2))\n",
    "R = np.zeros((lignes, 1))\n",
    "for i in range(lignes):\n",
    "    R[i] = -u_2_tilde[i] * (r31*coord_mm[i, 0]+r32*coord_mm[i, 1]+r33*coord_mm[i, 2])\n",
    "    B[i] = np.array([u_2_tilde[i], -(r21*coord_mm[i, 0] + r22*coord_mm[i, 1] + r23*coord_mm[i, 2] + o_2_c)])"
   ]
  },
  {
   "cell_type": "code",
   "execution_count": 744,
   "metadata": {},
   "outputs": [
    {
     "name": "stdout",
     "output_type": "stream",
     "text": [
      "[-332.30223876  801.52607047]\n"
     ]
    }
   ],
   "source": [
    "F = np.squeeze(np.linalg.pinv(B.T @ B) @ B.T @ R)\n",
    "o_3_c = F[0]\n",
    "f2 = F[1]\n",
    "print(F)"
   ]
  },
  {
   "cell_type": "code",
   "execution_count": 745,
   "metadata": {},
   "outputs": [
    {
     "name": "stdout",
     "output_type": "stream",
     "text": [
      "801.5260704660341\n",
      "4\n",
      "<class 'numpy.float64'>\n",
      "0.004990480219407294\n"
     ]
    }
   ],
   "source": [
    "s2 = f/f2\n",
    "f1 = beta * f2\n",
    "s1 = f/f1\n",
    "print(f2)\n",
    "print(f)\n",
    "print(s1)\n",
    "print(s2)"
   ]
  },
  {
   "cell_type": "code",
   "execution_count": 756,
   "metadata": {},
   "outputs": [],
   "source": [
    "M_int = np.array(\n",
    "    [[f/s1, 0, i1, 0],\n",
    "     [0, f/s2, i2, 0],\n",
    "     [0, 0, 1, 0]]\n",
    ")\n",
    "M_ext = np.array(\n",
    "    [[r11, r12, r13, o_1_c],\n",
    "     [r21, r22, r23, o_2_c],\n",
    "     [r31, r32, r33, o_3_c],\n",
    "     [0, 0, 0, 1]]\n",
    ")\n",
    "M = M_int @ M_ext"
   ]
  },
  {
   "cell_type": "code",
   "execution_count": 760,
   "metadata": {},
   "outputs": [
    {
     "name": "stdout",
     "output_type": "stream",
     "text": [
      "[38.72786164 84.73628406  1.        ]\n",
      "[ 41.36089757 133.76227445   1.        ]\n",
      "[ 43.96545059 182.25792526   1.        ]\n",
      "[ 46.54198038 230.23179564   1.        ]\n",
      "[ 49.09093678 277.69226154   1.        ]\n",
      "[ 51.61276007 324.64752058   1.        ]\n",
      "[ 54.10788118 371.10559679   1.        ]\n",
      "[ 56.576722   417.07434517   1.        ]\n",
      "[ 59.01969555 462.56145611   1.        ]\n",
      "[ 61.43720624 507.5744597    1.        ]\n",
      "[ 63.8296501  552.12072987   1.        ]\n",
      "[83.62291682 81.06309213  1.        ]\n",
      "[ 86.03936282 130.67483039   1.        ]\n",
      "[ 88.42936899 179.74373574   1.        ]\n",
      "[ 90.79336689 228.27866893   1.        ]\n",
      "[ 93.13177878 276.28829889   1.        ]\n",
      "[ 95.44501779 323.7811079    1.        ]\n",
      "[ 97.73348824 370.7653966    1.        ]\n",
      "[ 99.9975858  417.24928884   1.        ]\n",
      "[102.23769779 463.24073633   1.        ]\n",
      "[104.45420334 508.74752318   1.        ]\n",
      "[106.64747365 553.77727031   1.        ]\n",
      "[129.57170254  77.30368683   1.        ]\n",
      "[131.76063921 127.5153243    1.        ]\n",
      "[133.92534741 177.17118892   1.        ]\n",
      "[136.06622717 226.28045736   1.        ]\n",
      "[138.1836698  274.85210535   1.        ]\n",
      "[140.27805806 322.89491319   1.        ]\n",
      "[142.34976642 370.41747099   1.        ]\n",
      "[144.39916132 417.42818383   1.        ]\n",
      "[146.42660129 463.93527672   1.        ]\n",
      "[148.43243728 509.94679936   1.        ]\n",
      "[150.41701275 555.47063082   1.        ]\n",
      "[176.61175747  73.45499683   1.        ]\n",
      "[178.56166722 124.28120345   1.        ]\n",
      "[180.48974077 174.53822912   1.        ]\n",
      "[182.39634288 224.23558163   1.        ]\n",
      "[184.28183021 273.38255816   1.        ]\n",
      "[186.14655161 321.98825114   1.        ]\n",
      "[187.99084824 370.06155377   1.        ]\n",
      "[189.81505386 417.61116552   1.        ]\n",
      "[191.61949499 464.64559735   1.        ]\n",
      "[193.4044911  511.17317678   1.        ]\n",
      "[195.17035482 557.20205281   1.        ]\n",
      "[224.78242473  69.51380319   1.        ]\n",
      "[226.48115293 120.96979312   1.        ]\n",
      "[228.16063178 171.84270298   1.        ]\n",
      "[229.82118662 222.1423878    1.        ]\n",
      "[231.46313551 271.87848177   1.        ]\n",
      "[233.08678941 321.06040439   1.        ]\n",
      "[234.6924524  369.69736641   1.        ]\n",
      "[236.28042187 417.79837557   1.        ]\n",
      "[237.85098866 465.37224221   1.        ]\n",
      "[239.40443729 512.42758458   1.        ]\n",
      "[240.94104611 558.9728341    1.        ]\n",
      "[274.12496173  65.47673034   1.        ]\n",
      "[275.55967482 117.57828918   1.        ]\n",
      "[276.9779348  169.08235355   1.        ]\n",
      "[278.38002306 219.99914285   1.        ]\n",
      "[279.76621465 270.33864475   1.        ]\n",
      "[281.13677838 320.1106217    1.        ]\n",
      "[282.49197707 369.32461727   1.        ]\n",
      "[283.83206764 417.98996227   1.        ]\n",
      "[285.15730134 466.11578056   1.        ]\n",
      "[286.46792387 513.71099488   1.        ]\n",
      "[287.76417556 560.78433224   1.        ]\n",
      "[324.68265792  61.34023646   1.        ]\n",
      "[325.83979834 114.10375021   1.        ]\n",
      "[326.98350731 166.25481404   1.        ]\n",
      "[328.11401733 217.80402988   1.        ]\n",
      "[329.23155559 268.76175638   1.        ]\n",
      "[330.33634406 319.13811583   1.        ]\n",
      "[331.4285997  368.94300085   1.        ]\n",
      "[332.50853457 418.18608089   1.        ]\n",
      "[333.57635597 466.87680848   1.        ]\n",
      "[334.63226657 515.02442527   1.        ]\n",
      "[335.67646456 562.63796789   1.        ]\n",
      "[376.50096154  57.10060308   1.        ]\n",
      "[377.36619905 110.54308897   1.        ]\n",
      "[378.22126963 163.35760098   1.        ]\n",
      "[379.06635141 215.55514295   1.        ]\n",
      "[379.90161842 267.14646311   1.        ]\n",
      "[380.72724066 318.14206145   1.        ]\n",
      "[381.54338421 368.55219691   1.        ]\n",
      "[382.35021138 418.38689417   1.        ]\n",
      "[383.14788078 467.65595037   1.        ]\n",
      "[383.93654744 516.36894151   1.        ]\n",
      "[384.71636294 564.53522861   1.        ]\n"
     ]
    }
   ],
   "source": [
    "im = plt.imread(\"mire_1.png\")\n",
    "fig, ax = plt.subplots()\n",
    "x = np.ndarray((88,1))\n",
    "for i in range(int(lignes/2)):\n",
    "    alpha_U = M @ np.append(coord_mm[i, :], 1)\n",
    "    alpha = alpha_U[2]\n",
    "    U = alpha_U / alpha\n",
    "\n",
    "plt.show()\n"
   ]
  }
 ],
 "metadata": {
  "kernelspec": {
   "display_name": "env-imi",
   "language": "python",
   "name": "python3"
  },
  "language_info": {
   "codemirror_mode": {
    "name": "ipython",
    "version": 3
   },
   "file_extension": ".py",
   "mimetype": "text/x-python",
   "name": "python",
   "nbconvert_exporter": "python",
   "pygments_lexer": "ipython3",
   "version": "3.10.12"
  },
  "orig_nbformat": 4
 },
 "nbformat": 4,
 "nbformat_minor": 2
}
